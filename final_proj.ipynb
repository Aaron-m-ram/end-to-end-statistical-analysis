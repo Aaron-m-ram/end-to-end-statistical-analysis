{
 "cells": [
  {
   "cell_type": "code",
   "execution_count": 25,
   "metadata": {},
   "outputs": [
    {
     "name": "stdout",
     "output_type": "stream",
     "text": [
      "13649\n"
     ]
    },
    {
     "data": {
      "text/html": [
       "<div>\n",
       "<style scoped>\n",
       "    .dataframe tbody tr th:only-of-type {\n",
       "        vertical-align: middle;\n",
       "    }\n",
       "\n",
       "    .dataframe tbody tr th {\n",
       "        vertical-align: top;\n",
       "    }\n",
       "\n",
       "    .dataframe thead th {\n",
       "        text-align: right;\n",
       "    }\n",
       "</style>\n",
       "<table border=\"1\" class=\"dataframe\">\n",
       "  <thead>\n",
       "    <tr style=\"text-align: right;\">\n",
       "      <th></th>\n",
       "      <th>State</th>\n",
       "      <th>County</th>\n",
       "      <th>people per 100k</th>\n",
       "      <th>Gender</th>\n",
       "      <th>Ethnicity</th>\n",
       "    </tr>\n",
       "  </thead>\n",
       "  <tbody>\n",
       "    <tr>\n",
       "      <th>102</th>\n",
       "      <td>AK</td>\n",
       "      <td>Anchorage</td>\n",
       "      <td>317.5</td>\n",
       "      <td>Male</td>\n",
       "      <td>White</td>\n",
       "    </tr>\n",
       "    <tr>\n",
       "      <th>105</th>\n",
       "      <td>AK</td>\n",
       "      <td>Denali</td>\n",
       "      <td>400.7</td>\n",
       "      <td>Male</td>\n",
       "      <td>White</td>\n",
       "    </tr>\n",
       "    <tr>\n",
       "      <th>106</th>\n",
       "      <td>AK</td>\n",
       "      <td>Fairbanks North Star</td>\n",
       "      <td>401.0</td>\n",
       "      <td>Male</td>\n",
       "      <td>White</td>\n",
       "    </tr>\n",
       "    <tr>\n",
       "      <th>107</th>\n",
       "      <td>AK</td>\n",
       "      <td>Haines</td>\n",
       "      <td>385.5</td>\n",
       "      <td>Male</td>\n",
       "      <td>White</td>\n",
       "    </tr>\n",
       "    <tr>\n",
       "      <th>108</th>\n",
       "      <td>AK</td>\n",
       "      <td>Juneau</td>\n",
       "      <td>281.6</td>\n",
       "      <td>Male</td>\n",
       "      <td>White</td>\n",
       "    </tr>\n",
       "  </tbody>\n",
       "</table>\n",
       "</div>"
      ],
      "text/plain": [
       "    State                County  people per 100k Gender Ethnicity\n",
       "102    AK             Anchorage            317.5   Male     White\n",
       "105    AK                Denali            400.7   Male     White\n",
       "106    AK  Fairbanks North Star            401.0   Male     White\n",
       "107    AK                Haines            385.5   Male     White\n",
       "108    AK                Juneau            281.6   Male     White"
      ]
     },
     "execution_count": 25,
     "metadata": {},
     "output_type": "execute_result"
    }
   ],
   "source": [
    "import pandas as pd\n",
    "\n",
    "master_df = pd.read_csv(\"Heart_Disease_Mortality_Data_Among_US_Adults__35___by_State_Territory_and_County.csv\", sep=\",\")\n",
    "\n",
    "\n",
    "#removes the insufficient data columns\n",
    "rem_null_df = master_df[master_df['Data_Value_Footnote'].isnull()]\n",
    "\n",
    "#gets only male/female\n",
    "rem_gen_overall_df = rem_null_df[rem_null_df['Stratification1'] != 'Overall']\n",
    "\n",
    "#removes the overall for the ethnicity\n",
    "rem_eth_overall_df = rem_gen_overall_df[rem_gen_overall_df['Stratification2'] != 'Overall']\n",
    "\n",
    "#only gets the county\n",
    "only_county_overall_df = rem_eth_overall_df[rem_eth_overall_df['GeographicLevel'] == 'County']\n",
    "\n",
    "\n",
    "#get the columns we are only using\n",
    "desired_columns = ['LocationAbbr', 'LocationDesc', 'Data_Value', 'Stratification1', 'Stratification2']\n",
    "cleaned_county_df = only_county_overall_df[desired_columns]\n",
    "\n",
    "#Renamed the columns to better naming for the project\n",
    "cleaned_county_df.columns = ['State', 'County', 'people per 100k', 'Gender', 'Ethnicity']\n",
    "\n",
    "#Validated the column total  \n",
    "#print(len(cleaned_county_df))\n",
    "\n",
    "#Checking the data\n",
    "cleaned_county_df.head()\n"
   ]
  },
  {
   "cell_type": "code",
   "execution_count": null,
   "metadata": {},
   "outputs": [],
   "source": []
  }
 ],
 "metadata": {
  "kernelspec": {
   "display_name": "base",
   "language": "python",
   "name": "python3"
  },
  "language_info": {
   "codemirror_mode": {
    "name": "ipython",
    "version": 3
   },
   "file_extension": ".py",
   "mimetype": "text/x-python",
   "name": "python",
   "nbconvert_exporter": "python",
   "pygments_lexer": "ipython3",
   "version": "3.9.7"
  },
  "orig_nbformat": 4,
  "vscode": {
   "interpreter": {
    "hash": "f08154012ddadd8e950e6e9e035c7a7b32c136e7647e9b7c77e02eb723a8bedb"
   }
  }
 },
 "nbformat": 4,
 "nbformat_minor": 2
}
